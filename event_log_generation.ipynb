{
 "cells": [
  {
   "cell_type": "code",
   "execution_count": 1,
   "metadata": {},
   "outputs": [],
   "source": [
    "import pandas as pd\n",
    "import glob\n",
    "import os\n",
    "import re\n",
    "import networkx as nx"
   ]
  },
  {
   "cell_type": "code",
   "execution_count": 2,
   "metadata": {},
   "outputs": [],
   "source": [
    "import pm4py\n",
    "from pm4py.objects.log.util import dataframe_utils\n",
    "from pm4py.objects.log.importer.xes import importer as xes_importer\n",
    "from pm4py.objects.conversion.log import converter as log_converter\n",
    "from pm4py.objects.log.exporter.xes import exporter as xes_exporter"
   ]
  },
  {
   "cell_type": "code",
   "execution_count": 3,
   "metadata": {},
   "outputs": [],
   "source": [
    "AD_Expo_path = 'data/AD_records_subcohort.csv'\n",
    "Descendants_path = 'data/AD_descendants.csv'\n",
    "df_analysis = pd.read_csv(AD_Expo_path)\n",
    "descendants = pd.read_csv(Descendants_path)"
   ]
  },
  {
   "cell_type": "code",
   "execution_count": 4,
   "metadata": {},
   "outputs": [
    {
     "name": "stdout",
     "output_type": "stream",
     "text": [
      "Number of unique patients: 31941\n"
     ]
    }
   ],
   "source": [
    "unique_patients = df_analysis['PERSON_ID'].nunique()\n",
    "print(\"Number of unique patients:\", unique_patients)"
   ]
  },
  {
   "cell_type": "code",
   "execution_count": 5,
   "metadata": {},
   "outputs": [
    {
     "data": {
      "text/plain": [
       "(436476, 16)"
      ]
     },
     "execution_count": 5,
     "metadata": {},
     "output_type": "execute_result"
    }
   ],
   "source": [
    "df_analysis.shape"
   ]
  },
  {
   "cell_type": "code",
   "execution_count": 6,
   "metadata": {},
   "outputs": [],
   "source": [
    "df = df_analysis"
   ]
  },
  {
   "cell_type": "markdown",
   "metadata": {},
   "source": [
    "Cleaning"
   ]
  },
  {
   "cell_type": "code",
   "execution_count": 7,
   "metadata": {},
   "outputs": [],
   "source": [
    "df = df.drop_duplicates(\n",
    "    subset=[\n",
    "        'PERSON_ID',\n",
    "        'DRUG_CONCEPT_NAME',\n",
    "        'DRUG_CONCEPT_ID',\n",
    "        'DRUG_EXPOSURE_START_DATE',\n",
    "        'DRUG_EXPOSURE_END_DATE'\n",
    "    ],\n",
    "    keep='first'\n",
    ")\n",
    "\n",
    "df.to_csv('data/AD_records_subcohort_deduped.csv', index=False)\n"
   ]
  },
  {
   "cell_type": "code",
   "execution_count": 8,
   "metadata": {},
   "outputs": [
    {
     "name": "stdout",
     "output_type": "stream",
     "text": [
      "Number of unique patients: 31941\n"
     ]
    }
   ],
   "source": [
    "unique_patients = df['PERSON_ID'].nunique()\n",
    "print(\"Number of unique patients:\", unique_patients)"
   ]
  },
  {
   "cell_type": "code",
   "execution_count": 9,
   "metadata": {},
   "outputs": [
    {
     "data": {
      "text/plain": [
       "(415835, 16)"
      ]
     },
     "execution_count": 9,
     "metadata": {},
     "output_type": "execute_result"
    }
   ],
   "source": [
    "df.shape"
   ]
  },
  {
   "cell_type": "code",
   "execution_count": 10,
   "metadata": {},
   "outputs": [],
   "source": [
    "df = pd.read_csv('data/AD_records_subcohort_deduped.csv')"
   ]
  },
  {
   "cell_type": "code",
   "execution_count": 11,
   "metadata": {},
   "outputs": [],
   "source": [
    "df['DRUG_EXPOSURE_START_DATE'] = pd.to_datetime(\n",
    "    df['DRUG_EXPOSURE_START_DATE'], errors='coerce'\n",
    ")\n",
    "\n",
    "patient_stats = (\n",
    "    df.groupby('PERSON_ID')\n",
    "      .agg(\n",
    "          first_start=('DRUG_EXPOSURE_START_DATE', 'min'),\n",
    "          last_start=('DRUG_EXPOSURE_START_DATE', 'max'),\n",
    "          n_prescriptions=('DRUG_CONCEPT_ID', 'nunique')\n",
    "      )\n",
    "      .assign(case_duration_days=lambda x: (x['last_start'] - x['first_start']).dt.days)\n",
    "      .reset_index()\n",
    ")\n",
    "\n",
    "# Odd patients: duration = 0 and >1 prescription\n",
    "odd_patients = patient_stats[\n",
    "    (patient_stats['case_duration_days'] == 0) &\n",
    "    (patient_stats['n_prescriptions'] > 2)\n",
    "]\n",
    "\n",
    "# All others\n",
    "normal_patients = patient_stats[\n",
    "    ~((patient_stats['case_duration_days'] == 0) & (patient_stats['n_prescriptions'] > 2))\n",
    "]\n",
    "\n",
    "df_normal = df[~df['PERSON_ID'].isin(odd_patients['PERSON_ID'])]\n",
    "df_normal.to_csv('data/normal_patients.csv', index=False)\n",
    "\n",
    "df_odd = df[df['PERSON_ID'].isin(odd_patients['PERSON_ID'])]\n",
    "df_odd.to_csv('data/odd_patients.csv', index=False)"
   ]
  },
  {
   "cell_type": "code",
   "execution_count": 12,
   "metadata": {},
   "outputs": [
    {
     "data": {
      "text/plain": [
       "np.int64(0)"
      ]
     },
     "execution_count": 12,
     "metadata": {},
     "output_type": "execute_result"
    }
   ],
   "source": [
    "df_odd['DRUG_EXPOSURE_START_DATE'].isnull().sum()"
   ]
  },
  {
   "cell_type": "code",
   "execution_count": 13,
   "metadata": {},
   "outputs": [
    {
     "data": {
      "text/plain": [
       "np.int64(0)"
      ]
     },
     "execution_count": 13,
     "metadata": {},
     "output_type": "execute_result"
    }
   ],
   "source": [
    "df_normal['DRUG_EXPOSURE_START_DATE'].isnull().sum()"
   ]
  },
  {
   "cell_type": "code",
   "execution_count": null,
   "metadata": {},
   "outputs": [],
   "source": [
    "df_normal.head()"
   ]
  },
  {
   "cell_type": "code",
   "execution_count": 15,
   "metadata": {},
   "outputs": [
    {
     "name": "stdout",
     "output_type": "stream",
     "text": [
      "Number of unique patients: 31881\n"
     ]
    }
   ],
   "source": [
    "unique_patients = df_normal['PERSON_ID'].nunique()\n",
    "print(\"Number of unique patients:\", unique_patients)"
   ]
  },
  {
   "cell_type": "code",
   "execution_count": 16,
   "metadata": {},
   "outputs": [
    {
     "data": {
      "text/plain": [
       "(415641, 16)"
      ]
     },
     "execution_count": 16,
     "metadata": {},
     "output_type": "execute_result"
    }
   ],
   "source": [
    "df_normal.shape"
   ]
  },
  {
   "cell_type": "markdown",
   "metadata": {},
   "source": [
    "Simplification to Level 2(Ingredients)"
   ]
  },
  {
   "cell_type": "code",
   "execution_count": 17,
   "metadata": {},
   "outputs": [],
   "source": [
    "df = pd.read_csv('data/normal_patients.csv')"
   ]
  },
  {
   "cell_type": "code",
   "execution_count": 18,
   "metadata": {},
   "outputs": [
    {
     "data": {
      "text/plain": [
       "(415641, 16)"
      ]
     },
     "execution_count": 18,
     "metadata": {},
     "output_type": "execute_result"
    }
   ],
   "source": [
    "df.shape"
   ]
  },
  {
   "cell_type": "code",
   "execution_count": 19,
   "metadata": {},
   "outputs": [],
   "source": [
    "merged = df.merge(\n",
    "    descendants[['DESCENDANT_CONCEPT_ID', 'ANCESTOR_CONCEPT_NAME']],\n",
    "    left_on='DRUG_CONCEPT_ID',\n",
    "    right_on='DESCENDANT_CONCEPT_ID',\n",
    "    how='left'\n",
    ")"
   ]
  },
  {
   "cell_type": "code",
   "execution_count": 27,
   "metadata": {},
   "outputs": [
    {
     "data": {
      "text/plain": [
       "np.int64(0)"
      ]
     },
     "execution_count": 27,
     "metadata": {},
     "output_type": "execute_result"
    }
   ],
   "source": [
    "merged['DRUG_EXPOSURE_START_DATE'].isnull().sum()"
   ]
  },
  {
   "cell_type": "code",
   "execution_count": 20,
   "metadata": {},
   "outputs": [
    {
     "data": {
      "text/plain": [
       "(415641, 18)"
      ]
     },
     "execution_count": 20,
     "metadata": {},
     "output_type": "execute_result"
    }
   ],
   "source": [
    "merged.shape"
   ]
  },
  {
   "cell_type": "code",
   "execution_count": null,
   "metadata": {},
   "outputs": [],
   "source": [
    "merged.head()"
   ]
  },
  {
   "cell_type": "code",
   "execution_count": 22,
   "metadata": {},
   "outputs": [],
   "source": [
    "merged.to_csv('data/simple2.csv', index=False)"
   ]
  },
  {
   "cell_type": "markdown",
   "metadata": {},
   "source": [
    "Labeling"
   ]
  },
  {
   "cell_type": "code",
   "execution_count": 23,
   "metadata": {},
   "outputs": [],
   "source": [
    "df = pd.read_csv('data/simple2.csv')"
   ]
  },
  {
   "cell_type": "code",
   "execution_count": 24,
   "metadata": {},
   "outputs": [
    {
     "data": {
      "text/plain": [
       "(415641, 18)"
      ]
     },
     "execution_count": 24,
     "metadata": {},
     "output_type": "execute_result"
    }
   ],
   "source": [
    "df.shape"
   ]
  },
  {
   "cell_type": "code",
   "execution_count": 25,
   "metadata": {},
   "outputs": [
    {
     "name": "stdout",
     "output_type": "stream",
     "text": [
      "Number of unique patients: 31881\n"
     ]
    }
   ],
   "source": [
    "unique_patients = df['PERSON_ID'].nunique()\n",
    "print(\"Number of unique patients:\", unique_patients)"
   ]
  },
  {
   "cell_type": "code",
   "execution_count": 26,
   "metadata": {},
   "outputs": [],
   "source": [
    "def get_trd_status(patient_df, min_days=56):\n",
    "    patient_df = patient_df.sort_values('DRUG_EXPOSURE_START_DATE')\n",
    "    results = []\n",
    "    curr_ad = None\n",
    "    curr_start = None\n",
    "    curr_end = None\n",
    "\n",
    "    for _, row in patient_df.iterrows():\n",
    "        # Use ancestor name instead of full concept name\n",
    "        ad = row.get('ANCESTOR_CONCEPT_NAME')\n",
    "        start = pd.to_datetime(row['DRUG_EXPOSURE_START_DATE'])\n",
    "        end = pd.to_datetime(row['DRUG_EXPOSURE_END_DATE'])\n",
    "\n",
    "        if curr_ad is None:\n",
    "            curr_ad = ad\n",
    "            curr_start = start\n",
    "            curr_end = end\n",
    "        elif ad == curr_ad:\n",
    "            # If same drug, extend exposure window\n",
    "            curr_end = max(curr_end, end)\n",
    "        else:\n",
    "            # New drug, save previous\n",
    "            duration = (curr_end - curr_start).days\n",
    "            results.append((curr_ad, duration))\n",
    "            curr_ad = ad\n",
    "            curr_start = start\n",
    "            curr_end = end\n",
    "\n",
    "    # Save the last one\n",
    "    if curr_ad is not None:\n",
    "        duration = (curr_end - curr_start).days\n",
    "        results.append((curr_ad, duration))\n",
    "\n",
    "    # Count number of unique adequate trials\n",
    "    count = sum(1 for ad, dur in results if dur >= min_days)\n",
    "    return 1 if count > 2 else 0"
   ]
  },
  {
   "cell_type": "code",
   "execution_count": 27,
   "metadata": {},
   "outputs": [
    {
     "name": "stderr",
     "output_type": "stream",
     "text": [
      "/tmp/ipykernel_3187167/2674596661.py:2: DeprecationWarning: DataFrameGroupBy.apply operated on the grouping columns. This behavior is deprecated, and in a future version of pandas the grouping columns will be excluded from the operation. Either pass `include_groups=False` to exclude the groupings or explicitly select the grouping columns after groupby to silence this warning.\n",
      "  df.groupby('PERSON_ID').apply(get_trd_status).reset_index().rename(columns={0: 'TRD_STATUS'})\n"
     ]
    }
   ],
   "source": [
    "trd_status = (\n",
    "    df.groupby('PERSON_ID').apply(get_trd_status).reset_index().rename(columns={0: 'TRD_STATUS'})\n",
    ")\n",
    "df = df.merge(trd_status, on='PERSON_ID', how='left')"
   ]
  },
  {
   "cell_type": "code",
   "execution_count": 28,
   "metadata": {},
   "outputs": [],
   "source": [
    "df_trd = df[df['TRD_STATUS'] == 1].copy()\n",
    "df_nontrd = df[df['TRD_STATUS'] == 0].copy()"
   ]
  },
  {
   "cell_type": "code",
   "execution_count": null,
   "metadata": {},
   "outputs": [],
   "source": [
    "df_trd.head()"
   ]
  },
  {
   "cell_type": "code",
   "execution_count": 30,
   "metadata": {},
   "outputs": [
    {
     "data": {
      "text/plain": [
       "(184979, 19)"
      ]
     },
     "execution_count": 30,
     "metadata": {},
     "output_type": "execute_result"
    }
   ],
   "source": [
    "df_trd.shape"
   ]
  },
  {
   "cell_type": "code",
   "execution_count": 31,
   "metadata": {},
   "outputs": [
    {
     "data": {
      "text/plain": [
       "(230662, 19)"
      ]
     },
     "execution_count": 31,
     "metadata": {},
     "output_type": "execute_result"
    }
   ],
   "source": [
    "df_nontrd.shape"
   ]
  },
  {
   "cell_type": "code",
   "execution_count": 32,
   "metadata": {},
   "outputs": [],
   "source": [
    "df_trd.to_csv('data/simple2_trd.csv', index=False)\n",
    "df_nontrd.to_csv('data/simple2_nontrd.csv', index=False)"
   ]
  },
  {
   "cell_type": "code",
   "execution_count": 33,
   "metadata": {},
   "outputs": [
    {
     "name": "stdout",
     "output_type": "stream",
     "text": [
      "Number of unique trd patients: 4630\n",
      "Number of unique nontrd patients: 27251\n"
     ]
    }
   ],
   "source": [
    "unique_trd_patients = df_trd['PERSON_ID'].nunique()\n",
    "print(\"Number of unique trd patients:\", unique_trd_patients)\n",
    "unique_nontrd_patients = df_nontrd['PERSON_ID'].nunique()\n",
    "print(\"Number of unique nontrd patients:\", unique_nontrd_patients)"
   ]
  },
  {
   "cell_type": "markdown",
   "metadata": {},
   "source": [
    "Categorization"
   ]
  },
  {
   "cell_type": "code",
   "execution_count": 56,
   "metadata": {},
   "outputs": [],
   "source": [
    "path = 'data/AD_ancestors.csv'\n",
    "anc_df = pd.read_csv(path)"
   ]
  },
  {
   "cell_type": "code",
   "execution_count": 57,
   "metadata": {},
   "outputs": [],
   "source": [
    "trd_path = \"data/simple2_trd.csv\"\n",
    "nontrd_path = \"data/simple2_nontrd.csv\"\n",
    "\n",
    "df_trd = pd.read_csv(trd_path)\n",
    "df_nontrd = pd.read_csv(nontrd_path)"
   ]
  },
  {
   "cell_type": "code",
   "execution_count": 58,
   "metadata": {},
   "outputs": [
    {
     "data": {
      "text/plain": [
       "(184979, 19)"
      ]
     },
     "execution_count": 58,
     "metadata": {},
     "output_type": "execute_result"
    }
   ],
   "source": [
    "df_trd.shape"
   ]
  },
  {
   "cell_type": "code",
   "execution_count": 59,
   "metadata": {},
   "outputs": [
    {
     "data": {
      "text/plain": [
       "(230662, 19)"
      ]
     },
     "execution_count": 59,
     "metadata": {},
     "output_type": "execute_result"
    }
   ],
   "source": [
    "df_nontrd.shape"
   ]
  },
  {
   "cell_type": "code",
   "execution_count": 62,
   "metadata": {},
   "outputs": [
    {
     "name": "stdout",
     "output_type": "stream",
     "text": [
      "['ANCESTOR_CONCEPT_NAME', 'category', 'CONCEPT_ID']\n"
     ]
    }
   ],
   "source": [
    "print(anc_df.columns.tolist())"
   ]
  },
  {
   "cell_type": "code",
   "execution_count": 63,
   "metadata": {},
   "outputs": [],
   "source": [
    "anc_df['ANCESTOR_CONCEPT_NAME'] = (\n",
    "    anc_df['ANCESTOR_CONCEPT_NAME']\n",
    "      .str.strip()\n",
    "      .str.lower()\n",
    ")\n",
    "\n",
    "mapping_df = anc_df.copy()  \n"
   ]
  },
  {
   "cell_type": "code",
   "execution_count": 64,
   "metadata": {},
   "outputs": [
    {
     "data": {
      "text/html": [
       "<div>\n",
       "<style scoped>\n",
       "    .dataframe tbody tr th:only-of-type {\n",
       "        vertical-align: middle;\n",
       "    }\n",
       "\n",
       "    .dataframe tbody tr th {\n",
       "        vertical-align: top;\n",
       "    }\n",
       "\n",
       "    .dataframe thead th {\n",
       "        text-align: right;\n",
       "    }\n",
       "</style>\n",
       "<table border=\"1\" class=\"dataframe\">\n",
       "  <thead>\n",
       "    <tr style=\"text-align: right;\">\n",
       "      <th></th>\n",
       "      <th>ANCESTOR_CONCEPT_NAME</th>\n",
       "      <th>category</th>\n",
       "      <th>CONCEPT_ID</th>\n",
       "    </tr>\n",
       "  </thead>\n",
       "  <tbody>\n",
       "    <tr>\n",
       "      <th>0</th>\n",
       "      <td>citalopram</td>\n",
       "      <td>SSRI</td>\n",
       "      <td>797617</td>\n",
       "    </tr>\n",
       "    <tr>\n",
       "      <th>1</th>\n",
       "      <td>clopenthixol/zuclopenthixol</td>\n",
       "      <td>Augmentation</td>\n",
       "      <td>19010886</td>\n",
       "    </tr>\n",
       "    <tr>\n",
       "      <th>2</th>\n",
       "      <td>sertraline</td>\n",
       "      <td>SSRI</td>\n",
       "      <td>797617</td>\n",
       "    </tr>\n",
       "    <tr>\n",
       "      <th>3</th>\n",
       "      <td>escitalopram</td>\n",
       "      <td>SSRI</td>\n",
       "      <td>715939</td>\n",
       "    </tr>\n",
       "    <tr>\n",
       "      <th>4</th>\n",
       "      <td>fluoxetine</td>\n",
       "      <td>SSRI</td>\n",
       "      <td>755695</td>\n",
       "    </tr>\n",
       "    <tr>\n",
       "      <th>5</th>\n",
       "      <td>fluvoxamine</td>\n",
       "      <td>SSRI</td>\n",
       "      <td>751412</td>\n",
       "    </tr>\n",
       "    <tr>\n",
       "      <th>6</th>\n",
       "      <td>nefazodone</td>\n",
       "      <td>Atypical Antidepressants</td>\n",
       "      <td>714684</td>\n",
       "    </tr>\n",
       "    <tr>\n",
       "      <th>7</th>\n",
       "      <td>paroxetine</td>\n",
       "      <td>SSRI</td>\n",
       "      <td>722031</td>\n",
       "    </tr>\n",
       "    <tr>\n",
       "      <th>8</th>\n",
       "      <td>duloxetine</td>\n",
       "      <td>SNRIs</td>\n",
       "      <td>715259</td>\n",
       "    </tr>\n",
       "    <tr>\n",
       "      <th>9</th>\n",
       "      <td>venlafaxine</td>\n",
       "      <td>SNRIs</td>\n",
       "      <td>743670</td>\n",
       "    </tr>\n",
       "    <tr>\n",
       "      <th>10</th>\n",
       "      <td>desvenlafaxine</td>\n",
       "      <td>SNRIs</td>\n",
       "      <td>717607</td>\n",
       "    </tr>\n",
       "    <tr>\n",
       "      <th>11</th>\n",
       "      <td>levomilnacipran</td>\n",
       "      <td>SNRIs</td>\n",
       "      <td>43560354</td>\n",
       "    </tr>\n",
       "    <tr>\n",
       "      <th>12</th>\n",
       "      <td>milnacipran</td>\n",
       "      <td>SNRIs</td>\n",
       "      <td>19084693</td>\n",
       "    </tr>\n",
       "    <tr>\n",
       "      <th>13</th>\n",
       "      <td>trazodone</td>\n",
       "      <td>Atypical Antidepressants</td>\n",
       "      <td>703547</td>\n",
       "    </tr>\n",
       "    <tr>\n",
       "      <th>14</th>\n",
       "      <td>mirtazapine</td>\n",
       "      <td>Atypical Antidepressants</td>\n",
       "      <td>725131</td>\n",
       "    </tr>\n",
       "    <tr>\n",
       "      <th>15</th>\n",
       "      <td>vortioxetine</td>\n",
       "      <td>Atypical Antidepressants</td>\n",
       "      <td>44507700</td>\n",
       "    </tr>\n",
       "    <tr>\n",
       "      <th>16</th>\n",
       "      <td>vilazodone</td>\n",
       "      <td>Atypical Antidepressants</td>\n",
       "      <td>40234834</td>\n",
       "    </tr>\n",
       "    <tr>\n",
       "      <th>17</th>\n",
       "      <td>bupropion</td>\n",
       "      <td>Atypical Antidepressants</td>\n",
       "      <td>750982</td>\n",
       "    </tr>\n",
       "    <tr>\n",
       "      <th>18</th>\n",
       "      <td>agomelatine</td>\n",
       "      <td>Atypical Antidepressants</td>\n",
       "      <td>36878783</td>\n",
       "    </tr>\n",
       "    <tr>\n",
       "      <th>19</th>\n",
       "      <td>reboxetine</td>\n",
       "      <td>Atypical Antidepressants</td>\n",
       "      <td>19084693</td>\n",
       "    </tr>\n",
       "    <tr>\n",
       "      <th>20</th>\n",
       "      <td>imipramine</td>\n",
       "      <td>Tricyclic Antidepressants</td>\n",
       "      <td>778268</td>\n",
       "    </tr>\n",
       "    <tr>\n",
       "      <th>21</th>\n",
       "      <td>nortriptyline</td>\n",
       "      <td>Tricyclic Antidepressants</td>\n",
       "      <td>721724</td>\n",
       "    </tr>\n",
       "    <tr>\n",
       "      <th>22</th>\n",
       "      <td>amitriptyline</td>\n",
       "      <td>Tricyclic Antidepressants</td>\n",
       "      <td>710062</td>\n",
       "    </tr>\n",
       "    <tr>\n",
       "      <th>23</th>\n",
       "      <td>doxepin</td>\n",
       "      <td>Tricyclic Antidepressants</td>\n",
       "      <td>738156</td>\n",
       "    </tr>\n",
       "    <tr>\n",
       "      <th>24</th>\n",
       "      <td>desipramine</td>\n",
       "      <td>Tricyclic Antidepressants</td>\n",
       "      <td>716968</td>\n",
       "    </tr>\n",
       "    <tr>\n",
       "      <th>25</th>\n",
       "      <td>protriptyline</td>\n",
       "      <td>Tricyclic Antidepressants</td>\n",
       "      <td>754270</td>\n",
       "    </tr>\n",
       "    <tr>\n",
       "      <th>26</th>\n",
       "      <td>trimipramine</td>\n",
       "      <td>Tricyclic Antidepressants</td>\n",
       "      <td>705755</td>\n",
       "    </tr>\n",
       "    <tr>\n",
       "      <th>27</th>\n",
       "      <td>maprotiline</td>\n",
       "      <td>Tricyclic Antidepressants</td>\n",
       "      <td>794147</td>\n",
       "    </tr>\n",
       "    <tr>\n",
       "      <th>28</th>\n",
       "      <td>amoxapine</td>\n",
       "      <td>Tricyclic Antidepressants</td>\n",
       "      <td>713109</td>\n",
       "    </tr>\n",
       "    <tr>\n",
       "      <th>29</th>\n",
       "      <td>tranylcypromine</td>\n",
       "      <td>MAOIs</td>\n",
       "      <td>703470</td>\n",
       "    </tr>\n",
       "    <tr>\n",
       "      <th>30</th>\n",
       "      <td>phenelzine</td>\n",
       "      <td>MAOIs</td>\n",
       "      <td>733896</td>\n",
       "    </tr>\n",
       "    <tr>\n",
       "      <th>31</th>\n",
       "      <td>isocarboxazid</td>\n",
       "      <td>MAOIs</td>\n",
       "      <td>781705</td>\n",
       "    </tr>\n",
       "    <tr>\n",
       "      <th>32</th>\n",
       "      <td>selegiline</td>\n",
       "      <td>MAOIs</td>\n",
       "      <td>766209</td>\n",
       "    </tr>\n",
       "    <tr>\n",
       "      <th>33</th>\n",
       "      <td>moclobemide</td>\n",
       "      <td>MAOIs</td>\n",
       "      <td>19010652</td>\n",
       "    </tr>\n",
       "    <tr>\n",
       "      <th>34</th>\n",
       "      <td>aripiprazole</td>\n",
       "      <td>Augmentation</td>\n",
       "      <td>757688</td>\n",
       "    </tr>\n",
       "    <tr>\n",
       "      <th>35</th>\n",
       "      <td>quetiapine</td>\n",
       "      <td>Augmentation</td>\n",
       "      <td>766814</td>\n",
       "    </tr>\n",
       "    <tr>\n",
       "      <th>36</th>\n",
       "      <td>lithium</td>\n",
       "      <td>Augmentation</td>\n",
       "      <td>19124477</td>\n",
       "    </tr>\n",
       "    <tr>\n",
       "      <th>37</th>\n",
       "      <td>iloperidone</td>\n",
       "      <td>Augmentation</td>\n",
       "      <td>19017241</td>\n",
       "    </tr>\n",
       "    <tr>\n",
       "      <th>38</th>\n",
       "      <td>esketamine</td>\n",
       "      <td>Others</td>\n",
       "      <td>1366610</td>\n",
       "    </tr>\n",
       "    <tr>\n",
       "      <th>39</th>\n",
       "      <td>ketamine</td>\n",
       "      <td>Others</td>\n",
       "      <td>785649</td>\n",
       "    </tr>\n",
       "  </tbody>\n",
       "</table>\n",
       "</div>"
      ],
      "text/plain": [
       "          ANCESTOR_CONCEPT_NAME                   category  CONCEPT_ID\n",
       "0                    citalopram                       SSRI      797617\n",
       "1   clopenthixol/zuclopenthixol               Augmentation    19010886\n",
       "2                    sertraline                       SSRI      797617\n",
       "3                  escitalopram                       SSRI      715939\n",
       "4                    fluoxetine                       SSRI      755695\n",
       "5                   fluvoxamine                       SSRI      751412\n",
       "6                    nefazodone   Atypical Antidepressants      714684\n",
       "7                    paroxetine                       SSRI      722031\n",
       "8                    duloxetine                      SNRIs      715259\n",
       "9                   venlafaxine                      SNRIs      743670\n",
       "10               desvenlafaxine                      SNRIs      717607\n",
       "11              levomilnacipran                      SNRIs    43560354\n",
       "12                  milnacipran                      SNRIs    19084693\n",
       "13                    trazodone   Atypical Antidepressants      703547\n",
       "14                  mirtazapine   Atypical Antidepressants      725131\n",
       "15                 vortioxetine   Atypical Antidepressants    44507700\n",
       "16                   vilazodone   Atypical Antidepressants    40234834\n",
       "17                    bupropion   Atypical Antidepressants      750982\n",
       "18                  agomelatine   Atypical Antidepressants    36878783\n",
       "19                   reboxetine   Atypical Antidepressants    19084693\n",
       "20                   imipramine  Tricyclic Antidepressants      778268\n",
       "21                nortriptyline  Tricyclic Antidepressants      721724\n",
       "22                amitriptyline  Tricyclic Antidepressants      710062\n",
       "23                      doxepin  Tricyclic Antidepressants      738156\n",
       "24                  desipramine  Tricyclic Antidepressants      716968\n",
       "25                protriptyline  Tricyclic Antidepressants      754270\n",
       "26                 trimipramine  Tricyclic Antidepressants      705755\n",
       "27                  maprotiline  Tricyclic Antidepressants      794147\n",
       "28                    amoxapine  Tricyclic Antidepressants      713109\n",
       "29              tranylcypromine                      MAOIs      703470\n",
       "30                   phenelzine                      MAOIs      733896\n",
       "31                isocarboxazid                      MAOIs      781705\n",
       "32                   selegiline                      MAOIs      766209\n",
       "33                  moclobemide                      MAOIs    19010652\n",
       "34                 aripiprazole               Augmentation      757688\n",
       "35                   quetiapine               Augmentation      766814\n",
       "36                      lithium               Augmentation    19124477\n",
       "37                  iloperidone               Augmentation    19017241\n",
       "38                   esketamine                     Others     1366610\n",
       "39                     ketamine                     Others      785649"
      ]
     },
     "execution_count": 64,
     "metadata": {},
     "output_type": "execute_result"
    }
   ],
   "source": [
    "mapping_df"
   ]
  },
  {
   "cell_type": "code",
   "execution_count": 65,
   "metadata": {},
   "outputs": [
    {
     "name": "stdout",
     "output_type": "stream",
     "text": [
      "Series([], Name: count, dtype: int64)\n"
     ]
    }
   ],
   "source": [
    "dupes = (\n",
    "    mapping_df['ANCESTOR_CONCEPT_NAME']\n",
    "      .value_counts()\n",
    "      .loc[lambda s: s > 1]\n",
    ")\n",
    "print(dupes.head())\n"
   ]
  },
  {
   "cell_type": "code",
   "execution_count": 66,
   "metadata": {},
   "outputs": [],
   "source": [
    "df_trd['ANCESTOR_CONCEPT_NAME'] = df_trd['ANCESTOR_CONCEPT_NAME'].str.strip().str.lower()\n",
    "df_nontrd['ANCESTOR_CONCEPT_NAME'] = df_nontrd['ANCESTOR_CONCEPT_NAME'].str.strip().str.lower()"
   ]
  },
  {
   "cell_type": "code",
   "execution_count": 67,
   "metadata": {},
   "outputs": [
    {
     "data": {
      "text/plain": [
       "(184979, 19)"
      ]
     },
     "execution_count": 67,
     "metadata": {},
     "output_type": "execute_result"
    }
   ],
   "source": [
    "df_trd.shape"
   ]
  },
  {
   "cell_type": "code",
   "execution_count": 68,
   "metadata": {},
   "outputs": [
    {
     "data": {
      "text/plain": [
       "(230662, 19)"
      ]
     },
     "execution_count": 68,
     "metadata": {},
     "output_type": "execute_result"
    }
   ],
   "source": [
    "df_nontrd.shape"
   ]
  },
  {
   "cell_type": "code",
   "execution_count": 69,
   "metadata": {},
   "outputs": [],
   "source": [
    "df_trd_cat = (\n",
    "    df_trd\n",
    "    .merge(mapping_df, on='ANCESTOR_CONCEPT_NAME', how='left')\n",
    "    .loc[:, ['PERSON_ID', 'category', 'DRUG_EXPOSURE_START_DATE', 'DRUG_EXPOSURE_END_DATE']]\n",
    ")\n",
    "\n",
    "\n",
    "df_nontrd_cat = (\n",
    "    df_nontrd\n",
    "    .merge(mapping_df, on='ANCESTOR_CONCEPT_NAME', how='left')\n",
    "    .loc[:, ['PERSON_ID', 'category', 'DRUG_EXPOSURE_START_DATE', 'DRUG_EXPOSURE_END_DATE']]\n",
    ")"
   ]
  },
  {
   "cell_type": "code",
   "execution_count": 70,
   "metadata": {},
   "outputs": [
    {
     "data": {
      "text/plain": [
       "(184979, 4)"
      ]
     },
     "execution_count": 70,
     "metadata": {},
     "output_type": "execute_result"
    }
   ],
   "source": [
    "df_trd_cat.shape"
   ]
  },
  {
   "cell_type": "code",
   "execution_count": 71,
   "metadata": {},
   "outputs": [
    {
     "data": {
      "text/plain": [
       "(230662, 4)"
      ]
     },
     "execution_count": 71,
     "metadata": {},
     "output_type": "execute_result"
    }
   ],
   "source": [
    "df_nontrd_cat.shape"
   ]
  },
  {
   "cell_type": "code",
   "execution_count": 72,
   "metadata": {},
   "outputs": [],
   "source": [
    "trd_path = \"data/trd_category.csv\"\n",
    "nontrd_path = \"data/nontrd_category.csv\"\n",
    "\n",
    "df_trd_cat.to_csv(trd_path, index=False)\n",
    "df_nontrd_cat.to_csv(nontrd_path, index=False)"
   ]
  },
  {
   "cell_type": "markdown",
   "metadata": {},
   "source": [
    "Event Log Generation"
   ]
  },
  {
   "cell_type": "code",
   "execution_count": 73,
   "metadata": {},
   "outputs": [],
   "source": [
    "trd_path = \"data/trd_category.csv\"\n",
    "nontrd_path = \"data/nontrd_category.csv\"\n",
    "\n",
    "cat_trd_df = pd.read_csv(trd_path)\n",
    "cat_nontrd_df = pd.read_csv(nontrd_path)"
   ]
  },
  {
   "cell_type": "code",
   "execution_count": 74,
   "metadata": {},
   "outputs": [
    {
     "name": "stdout",
     "output_type": "stream",
     "text": [
      "cat_trd_df missing values:\n",
      "PERSON_ID                   0\n",
      "category                    0\n",
      "DRUG_EXPOSURE_START_DATE    0\n",
      "dtype: int64\n",
      "\n",
      "cat_nontrd_df missing values:\n",
      "PERSON_ID                   0\n",
      "category                    0\n",
      "DRUG_EXPOSURE_START_DATE    0\n",
      "dtype: int64\n"
     ]
    }
   ],
   "source": [
    "cols = ['PERSON_ID', 'category', 'DRUG_EXPOSURE_START_DATE']\n",
    "\n",
    "\n",
    "print(\"cat_trd_df missing values:\")\n",
    "print(cat_trd_df[cols].isnull().sum())\n",
    "\n",
    "print(\"\\ncat_nontrd_df missing values:\")\n",
    "print(cat_nontrd_df[cols].isnull().sum())"
   ]
  },
  {
   "cell_type": "code",
   "execution_count": 75,
   "metadata": {},
   "outputs": [],
   "source": [
    "trd_event_log = pm4py.format_dataframe(cat_trd_df, case_id='PERSON_ID', activity_key='category', timestamp_key='DRUG_EXPOSURE_START_DATE')\n",
    "trd_event_log = pm4py.convert_to_event_log(trd_event_log)"
   ]
  },
  {
   "cell_type": "code",
   "execution_count": 76,
   "metadata": {},
   "outputs": [],
   "source": [
    "nontrd_event_log = pm4py.format_dataframe(cat_nontrd_df, case_id='PERSON_ID', activity_key='category', timestamp_key='DRUG_EXPOSURE_START_DATE')\n",
    "nontrd_event_log = pm4py.convert_to_event_log(nontrd_event_log)"
   ]
  },
  {
   "cell_type": "code",
   "execution_count": 77,
   "metadata": {},
   "outputs": [
    {
     "data": {
      "application/vnd.jupyter.widget-view+json": {
       "model_id": "b5b853a9f7b543178dd423c22cc19c87",
       "version_major": 2,
       "version_minor": 0
      },
      "text/plain": [
       "exporting log, completed traces ::   0%|          | 0/4630 [00:00<?, ?it/s]"
      ]
     },
     "metadata": {},
     "output_type": "display_data"
    },
    {
     "data": {
      "application/vnd.jupyter.widget-view+json": {
       "model_id": "783891d586354a9ab1cf684db1ec163e",
       "version_major": 2,
       "version_minor": 0
      },
      "text/plain": [
       "exporting log, completed traces ::   0%|          | 0/27251 [00:00<?, ?it/s]"
      ]
     },
     "metadata": {},
     "output_type": "display_data"
    }
   ],
   "source": [
    "xes_exporter.apply(trd_event_log, 'data/trd_event_log.xes')\n",
    "xes_exporter.apply(nontrd_event_log, 'data/nontrd_event_log.xes')"
   ]
  },
  {
   "cell_type": "code",
   "execution_count": 78,
   "metadata": {},
   "outputs": [
    {
     "data": {
      "text/plain": [
       "(184979, 7)"
      ]
     },
     "execution_count": 78,
     "metadata": {},
     "output_type": "execute_result"
    }
   ],
   "source": [
    "cat_trd_df.shape"
   ]
  },
  {
   "cell_type": "code",
   "execution_count": 79,
   "metadata": {},
   "outputs": [
    {
     "data": {
      "text/plain": [
       "(230662, 7)"
      ]
     },
     "execution_count": 79,
     "metadata": {},
     "output_type": "execute_result"
    }
   ],
   "source": [
    "cat_nontrd_df.shape"
   ]
  },
  {
   "cell_type": "code",
   "execution_count": null,
   "metadata": {},
   "outputs": [],
   "source": []
  }
 ],
 "metadata": {
  "kernelspec": {
   "display_name": "pm4py",
   "language": "python",
   "name": "python3"
  },
  "language_info": {
   "codemirror_mode": {
    "name": "ipython",
    "version": 3
   },
   "file_extension": ".py",
   "mimetype": "text/x-python",
   "name": "python",
   "nbconvert_exporter": "python",
   "pygments_lexer": "ipython3",
   "version": "3.12.9"
  }
 },
 "nbformat": 4,
 "nbformat_minor": 2
}
